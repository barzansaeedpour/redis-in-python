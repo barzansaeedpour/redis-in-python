{
 "cells": [
  {
   "attachments": {},
   "cell_type": "markdown",
   "metadata": {},
   "source": [
    "# Redis in Python"
   ]
  },
  {
   "attachments": {},
   "cell_type": "markdown",
   "metadata": {},
   "source": [
    "Install the Redis Python library:\n",
    "You can install the Redis library using pip by running the following command:\n",
    "\n",
    "```pip install redis```"
   ]
  },
  {
   "attachments": {},
   "cell_type": "markdown",
   "metadata": {},
   "source": [
    "Import the Redis library:\n",
    "In your Python script, import the Redis library using the following line:"
   ]
  },
  {
   "cell_type": "code",
   "execution_count": 1,
   "metadata": {},
   "outputs": [],
   "source": [
    "import redis"
   ]
  },
  {
   "attachments": {},
   "cell_type": "markdown",
   "metadata": {},
   "source": [
    "Connect to Redis:\n",
    "\n",
    "Create a Redis client object and establish a connection with the Redis server using the redis.Redis() constructor. By default, Redis server runs on localhost with port 6379."
   ]
  },
  {
   "cell_type": "code",
   "execution_count": 2,
   "metadata": {},
   "outputs": [],
   "source": [
    "r = redis.Redis(host='localhost', port=6379)"
   ]
  },
  {
   "attachments": {},
   "cell_type": "markdown",
   "metadata": {},
   "source": [
    "Set and Get values:\n",
    "\n",
    "You can use the Redis client object to set and get values from Redis. The set() method sets a key-value pair, and the get() method retrieves the value associated with a key."
   ]
  },
  {
   "cell_type": "code",
   "execution_count": 3,
   "metadata": {},
   "outputs": [
    {
     "name": "stdout",
     "output_type": "stream",
     "text": [
      "b'value'\n"
     ]
    }
   ],
   "source": [
    "r.set('key', 'value')\n",
    "value = r.get('key')\n",
    "print(value)\n"
   ]
  },
  {
   "attachments": {},
   "cell_type": "markdown",
   "metadata": {},
   "source": [
    "Additional Redis operations:\n",
    "\n",
    "Redis provides various operations like incrementing, decrementing, deleting keys, and more. Here are a few examples:"
   ]
  },
  {
   "cell_type": "code",
   "execution_count": 5,
   "metadata": {},
   "outputs": [
    {
     "data": {
      "text/plain": [
       "0"
      ]
     },
     "execution_count": 5,
     "metadata": {},
     "output_type": "execute_result"
    }
   ],
   "source": [
    "r.incr('counter')  # Increment the value of 'counter' by 1\n",
    "r.decr('counter')  # Decrement the value of 'counter' by 1\n",
    "r.delete('key')    # Delete the key-value pair with the specified key\n"
   ]
  },
  {
   "attachments": {},
   "cell_type": "markdown",
   "metadata": {},
   "source": [
    "Remember to handle exceptions and errors that may occur during the Redis operations.\n",
    "\n",
    "That's a basic overview of how to use Redis with Python. Redis provides many more advanced features, such as data structures, pub/sub messaging, and transactions. You can refer to the Redis Python documentation for more information: https://redis-py.readthedocs.io/"
   ]
  },
  {
   "cell_type": "code",
   "execution_count": null,
   "metadata": {},
   "outputs": [],
   "source": []
  }
 ],
 "metadata": {
  "kernelspec": {
   "display_name": "Python 3",
   "language": "python",
   "name": "python3"
  },
  "language_info": {
   "codemirror_mode": {
    "name": "ipython",
    "version": 3
   },
   "file_extension": ".py",
   "mimetype": "text/x-python",
   "name": "python",
   "nbconvert_exporter": "python",
   "pygments_lexer": "ipython3",
   "version": "3.10.7"
  },
  "orig_nbformat": 4
 },
 "nbformat": 4,
 "nbformat_minor": 2
}
